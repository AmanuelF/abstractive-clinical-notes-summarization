{
  "nbformat": 4,
  "nbformat_minor": 0,
  "metadata": {
    "kernelspec": {
      "display_name": "Python 3",
      "language": "python",
      "name": "python3"
    },
    "language_info": {
      "codemirror_mode": {
        "name": "ipython",
        "version": 3
      },
      "file_extension": ".py",
      "mimetype": "text/x-python",
      "name": "python",
      "nbconvert_exporter": "python",
      "pygments_lexer": "ipython3",
      "version": "3.7.4"
    },
    "colab": {
      "name": "stanza_NER_heart_failure.ipynb",
      "provenance": [],
      "collapsed_sections": [],
      "machine_shape": "hm"
    },
    "accelerator": "GPU",
    "widgets": {
      "application/vnd.jupyter.widget-state+json": {
        "d10c52bbc8a3418b8eed5c0b41164405": {
          "model_module": "@jupyter-widgets/controls",
          "model_name": "HBoxModel",
          "model_module_version": "1.5.0",
          "state": {
            "_view_name": "HBoxView",
            "_dom_classes": [],
            "_model_name": "HBoxModel",
            "_view_module": "@jupyter-widgets/controls",
            "_model_module_version": "1.5.0",
            "_view_count": null,
            "_view_module_version": "1.5.0",
            "box_style": "",
            "layout": "IPY_MODEL_5f94e9968f1f4b07920c6a7840b2eae1",
            "_model_module": "@jupyter-widgets/controls",
            "children": [
              "IPY_MODEL_76c9f4ef88db4e879ad1a63e6e7c0dd8",
              "IPY_MODEL_e1f44dcd958044e0bf992a23d2510b5f",
              "IPY_MODEL_5d959a658e8943d5adcdda635f11ea2a"
            ]
          }
        },
        "5f94e9968f1f4b07920c6a7840b2eae1": {
          "model_module": "@jupyter-widgets/base",
          "model_name": "LayoutModel",
          "model_module_version": "1.2.0",
          "state": {
            "_view_name": "LayoutView",
            "grid_template_rows": null,
            "right": null,
            "justify_content": null,
            "_view_module": "@jupyter-widgets/base",
            "overflow": null,
            "_model_module_version": "1.2.0",
            "_view_count": null,
            "flex_flow": null,
            "width": null,
            "min_width": null,
            "border": null,
            "align_items": null,
            "bottom": null,
            "_model_module": "@jupyter-widgets/base",
            "top": null,
            "grid_column": null,
            "overflow_y": null,
            "overflow_x": null,
            "grid_auto_flow": null,
            "grid_area": null,
            "grid_template_columns": null,
            "flex": null,
            "_model_name": "LayoutModel",
            "justify_items": null,
            "grid_row": null,
            "max_height": null,
            "align_content": null,
            "visibility": null,
            "align_self": null,
            "height": null,
            "min_height": null,
            "padding": null,
            "grid_auto_rows": null,
            "grid_gap": null,
            "max_width": null,
            "order": null,
            "_view_module_version": "1.2.0",
            "grid_template_areas": null,
            "object_position": null,
            "object_fit": null,
            "grid_auto_columns": null,
            "margin": null,
            "display": null,
            "left": null
          }
        },
        "76c9f4ef88db4e879ad1a63e6e7c0dd8": {
          "model_module": "@jupyter-widgets/controls",
          "model_name": "HTMLModel",
          "model_module_version": "1.5.0",
          "state": {
            "_view_name": "HTMLView",
            "style": "IPY_MODEL_3e4c2a0355a44896949c20302cc18ac2",
            "_dom_classes": [],
            "description": "",
            "_model_name": "HTMLModel",
            "placeholder": "​",
            "_view_module": "@jupyter-widgets/controls",
            "_model_module_version": "1.5.0",
            "value": "Downloading https://raw.githubusercontent.com/stanfordnlp/stanza-resources/main/resources_1.3.0.json: ",
            "_view_count": null,
            "_view_module_version": "1.5.0",
            "description_tooltip": null,
            "_model_module": "@jupyter-widgets/controls",
            "layout": "IPY_MODEL_9d4423d56fd84ece9143a669cfea7c76"
          }
        },
        "e1f44dcd958044e0bf992a23d2510b5f": {
          "model_module": "@jupyter-widgets/controls",
          "model_name": "FloatProgressModel",
          "model_module_version": "1.5.0",
          "state": {
            "_view_name": "ProgressView",
            "style": "IPY_MODEL_9a2a25a680ce46baa47a08643cd3c922",
            "_dom_classes": [],
            "description": "",
            "_model_name": "FloatProgressModel",
            "bar_style": "success",
            "max": 24459,
            "_view_module": "@jupyter-widgets/controls",
            "_model_module_version": "1.5.0",
            "value": 24459,
            "_view_count": null,
            "_view_module_version": "1.5.0",
            "orientation": "horizontal",
            "min": 0,
            "description_tooltip": null,
            "_model_module": "@jupyter-widgets/controls",
            "layout": "IPY_MODEL_63d1199158db457bab11c7cbb4d4075e"
          }
        },
        "5d959a658e8943d5adcdda635f11ea2a": {
          "model_module": "@jupyter-widgets/controls",
          "model_name": "HTMLModel",
          "model_module_version": "1.5.0",
          "state": {
            "_view_name": "HTMLView",
            "style": "IPY_MODEL_20578702be3843f28bf0ac789d1f46bf",
            "_dom_classes": [],
            "description": "",
            "_model_name": "HTMLModel",
            "placeholder": "​",
            "_view_module": "@jupyter-widgets/controls",
            "_model_module_version": "1.5.0",
            "value": " 142k/? [00:00&lt;00:00, 4.34MB/s]",
            "_view_count": null,
            "_view_module_version": "1.5.0",
            "description_tooltip": null,
            "_model_module": "@jupyter-widgets/controls",
            "layout": "IPY_MODEL_245fecf457da423797932f544e5eebbd"
          }
        },
        "3e4c2a0355a44896949c20302cc18ac2": {
          "model_module": "@jupyter-widgets/controls",
          "model_name": "DescriptionStyleModel",
          "model_module_version": "1.5.0",
          "state": {
            "_view_name": "StyleView",
            "_model_name": "DescriptionStyleModel",
            "description_width": "",
            "_view_module": "@jupyter-widgets/base",
            "_model_module_version": "1.5.0",
            "_view_count": null,
            "_view_module_version": "1.2.0",
            "_model_module": "@jupyter-widgets/controls"
          }
        },
        "9d4423d56fd84ece9143a669cfea7c76": {
          "model_module": "@jupyter-widgets/base",
          "model_name": "LayoutModel",
          "model_module_version": "1.2.0",
          "state": {
            "_view_name": "LayoutView",
            "grid_template_rows": null,
            "right": null,
            "justify_content": null,
            "_view_module": "@jupyter-widgets/base",
            "overflow": null,
            "_model_module_version": "1.2.0",
            "_view_count": null,
            "flex_flow": null,
            "width": null,
            "min_width": null,
            "border": null,
            "align_items": null,
            "bottom": null,
            "_model_module": "@jupyter-widgets/base",
            "top": null,
            "grid_column": null,
            "overflow_y": null,
            "overflow_x": null,
            "grid_auto_flow": null,
            "grid_area": null,
            "grid_template_columns": null,
            "flex": null,
            "_model_name": "LayoutModel",
            "justify_items": null,
            "grid_row": null,
            "max_height": null,
            "align_content": null,
            "visibility": null,
            "align_self": null,
            "height": null,
            "min_height": null,
            "padding": null,
            "grid_auto_rows": null,
            "grid_gap": null,
            "max_width": null,
            "order": null,
            "_view_module_version": "1.2.0",
            "grid_template_areas": null,
            "object_position": null,
            "object_fit": null,
            "grid_auto_columns": null,
            "margin": null,
            "display": null,
            "left": null
          }
        },
        "9a2a25a680ce46baa47a08643cd3c922": {
          "model_module": "@jupyter-widgets/controls",
          "model_name": "ProgressStyleModel",
          "model_module_version": "1.5.0",
          "state": {
            "_view_name": "StyleView",
            "_model_name": "ProgressStyleModel",
            "description_width": "",
            "_view_module": "@jupyter-widgets/base",
            "_model_module_version": "1.5.0",
            "_view_count": null,
            "_view_module_version": "1.2.0",
            "bar_color": null,
            "_model_module": "@jupyter-widgets/controls"
          }
        },
        "63d1199158db457bab11c7cbb4d4075e": {
          "model_module": "@jupyter-widgets/base",
          "model_name": "LayoutModel",
          "model_module_version": "1.2.0",
          "state": {
            "_view_name": "LayoutView",
            "grid_template_rows": null,
            "right": null,
            "justify_content": null,
            "_view_module": "@jupyter-widgets/base",
            "overflow": null,
            "_model_module_version": "1.2.0",
            "_view_count": null,
            "flex_flow": null,
            "width": null,
            "min_width": null,
            "border": null,
            "align_items": null,
            "bottom": null,
            "_model_module": "@jupyter-widgets/base",
            "top": null,
            "grid_column": null,
            "overflow_y": null,
            "overflow_x": null,
            "grid_auto_flow": null,
            "grid_area": null,
            "grid_template_columns": null,
            "flex": null,
            "_model_name": "LayoutModel",
            "justify_items": null,
            "grid_row": null,
            "max_height": null,
            "align_content": null,
            "visibility": null,
            "align_self": null,
            "height": null,
            "min_height": null,
            "padding": null,
            "grid_auto_rows": null,
            "grid_gap": null,
            "max_width": null,
            "order": null,
            "_view_module_version": "1.2.0",
            "grid_template_areas": null,
            "object_position": null,
            "object_fit": null,
            "grid_auto_columns": null,
            "margin": null,
            "display": null,
            "left": null
          }
        },
        "20578702be3843f28bf0ac789d1f46bf": {
          "model_module": "@jupyter-widgets/controls",
          "model_name": "DescriptionStyleModel",
          "model_module_version": "1.5.0",
          "state": {
            "_view_name": "StyleView",
            "_model_name": "DescriptionStyleModel",
            "description_width": "",
            "_view_module": "@jupyter-widgets/base",
            "_model_module_version": "1.5.0",
            "_view_count": null,
            "_view_module_version": "1.2.0",
            "_model_module": "@jupyter-widgets/controls"
          }
        },
        "245fecf457da423797932f544e5eebbd": {
          "model_module": "@jupyter-widgets/base",
          "model_name": "LayoutModel",
          "model_module_version": "1.2.0",
          "state": {
            "_view_name": "LayoutView",
            "grid_template_rows": null,
            "right": null,
            "justify_content": null,
            "_view_module": "@jupyter-widgets/base",
            "overflow": null,
            "_model_module_version": "1.2.0",
            "_view_count": null,
            "flex_flow": null,
            "width": null,
            "min_width": null,
            "border": null,
            "align_items": null,
            "bottom": null,
            "_model_module": "@jupyter-widgets/base",
            "top": null,
            "grid_column": null,
            "overflow_y": null,
            "overflow_x": null,
            "grid_auto_flow": null,
            "grid_area": null,
            "grid_template_columns": null,
            "flex": null,
            "_model_name": "LayoutModel",
            "justify_items": null,
            "grid_row": null,
            "max_height": null,
            "align_content": null,
            "visibility": null,
            "align_self": null,
            "height": null,
            "min_height": null,
            "padding": null,
            "grid_auto_rows": null,
            "grid_gap": null,
            "max_width": null,
            "order": null,
            "_view_module_version": "1.2.0",
            "grid_template_areas": null,
            "object_position": null,
            "object_fit": null,
            "grid_auto_columns": null,
            "margin": null,
            "display": null,
            "left": null
          }
        }
      }
    }
  },
  "cells": [
    {
      "cell_type": "code",
      "metadata": {
        "colab": {
          "base_uri": "https://localhost:8080/"
        },
        "id": "CNVWhCPbOmUn",
        "outputId": "1f553aa4-ae3c-427c-8ead-74f3954d3f9a"
      },
      "source": [
        "from google.colab import drive\n",
        "drive.mount('/content/drive')"
      ],
      "execution_count": null,
      "outputs": [
        {
          "output_type": "stream",
          "name": "stdout",
          "text": [
            "Mounted at /content/drive\n"
          ]
        }
      ]
    },
    {
      "cell_type": "code",
      "metadata": {
        "colab": {
          "base_uri": "https://localhost:8080/"
        },
        "id": "Kv5m6sp3OnFd",
        "outputId": "0e9f0ca4-a4d6-47b0-cb0c-649c62442111"
      },
      "source": [
        "%cd drive/My\\ Drive/Colab\\ Notebooks/SCH_Proposal"
      ],
      "execution_count": null,
      "outputs": [
        {
          "output_type": "stream",
          "name": "stdout",
          "text": [
            "/content/drive/My Drive/Colab Notebooks/SCH_Proposal\n"
          ]
        }
      ]
    },
    {
      "cell_type": "markdown",
      "metadata": {
        "id": "qwqpPjRfJ9fT"
      },
      "source": [
        "## Clone stanza"
      ]
    },
    {
      "cell_type": "code",
      "metadata": {
        "colab": {
          "base_uri": "https://localhost:8080/"
        },
        "id": "_1NjP1dQJ8YH",
        "outputId": "90382194-6072-48ed-cf4f-42a8799604f4"
      },
      "source": [
        "!git clone https://github.com/stanfordnlp/stanza.git"
      ],
      "execution_count": null,
      "outputs": [
        {
          "output_type": "stream",
          "name": "stdout",
          "text": [
            "Cloning into 'stanza'...\n",
            "remote: Enumerating objects: 17013, done.\u001b[K\n",
            "remote: Counting objects: 100% (1260/1260), done.\u001b[K\n",
            "remote: Compressing objects: 100% (460/460), done.\u001b[K\n",
            "remote: Total 17013 (delta 919), reused 1039 (delta 795), pack-reused 15753\u001b[K\n",
            "Receiving objects: 100% (17013/17013), 8.57 MiB | 5.45 MiB/s, done.\n",
            "Resolving deltas: 100% (12399/12399), done.\n",
            "Checking out files: 100% (290/290), done.\n"
          ]
        }
      ]
    },
    {
      "cell_type": "code",
      "metadata": {
        "colab": {
          "base_uri": "https://localhost:8080/"
        },
        "id": "zu_yzSMpKGDF",
        "outputId": "eb186eda-9dae-47c1-bc78-aec13ed6b7e8"
      },
      "source": [
        "!pip3 install -q git+https://github.com/stanfordnlp/stanza.git"
      ],
      "execution_count": null,
      "outputs": [
        {
          "output_type": "stream",
          "name": "stdout",
          "text": [
            "\u001b[?25l\r\u001b[K     |██                              | 10 kB 37.8 MB/s eta 0:00:01\r\u001b[K     |███▉                            | 20 kB 43.7 MB/s eta 0:00:01\r\u001b[K     |█████▉                          | 30 kB 49.2 MB/s eta 0:00:01\r\u001b[K     |███████▊                        | 40 kB 51.5 MB/s eta 0:00:01\r\u001b[K     |█████████▋                      | 51 kB 37.5 MB/s eta 0:00:01\r\u001b[K     |███████████▋                    | 61 kB 39.8 MB/s eta 0:00:01\r\u001b[K     |█████████████▌                  | 71 kB 33.6 MB/s eta 0:00:01\r\u001b[K     |███████████████▍                | 81 kB 35.9 MB/s eta 0:00:01\r\u001b[K     |█████████████████▍              | 92 kB 38.1 MB/s eta 0:00:01\r\u001b[K     |███████████████████▎            | 102 kB 40.1 MB/s eta 0:00:01\r\u001b[K     |█████████████████████▏          | 112 kB 40.1 MB/s eta 0:00:01\r\u001b[K     |███████████████████████▏        | 122 kB 40.1 MB/s eta 0:00:01\r\u001b[K     |█████████████████████████       | 133 kB 40.1 MB/s eta 0:00:01\r\u001b[K     |███████████████████████████     | 143 kB 40.1 MB/s eta 0:00:01\r\u001b[K     |█████████████████████████████   | 153 kB 40.1 MB/s eta 0:00:01\r\u001b[K     |██████████████████████████████▉ | 163 kB 40.1 MB/s eta 0:00:01\r\u001b[K     |████████████████████████████████| 170 kB 40.1 MB/s \n",
            "\u001b[?25h  Building wheel for stanza (setup.py) ... \u001b[?25l\u001b[?25hdone\n",
            "  Building wheel for emoji (setup.py) ... \u001b[?25l\u001b[?25hdone\n"
          ]
        }
      ]
    },
    {
      "cell_type": "markdown",
      "metadata": {
        "id": "NKDp0_EWKT-F"
      },
      "source": [
        "## https://stanfordnlp.github.io/stanza/biomed_model_usage.html"
      ]
    },
    {
      "cell_type": "code",
      "source": [
        "!pip3 install jsonlines"
      ],
      "metadata": {
        "colab": {
          "base_uri": "https://localhost:8080/"
        },
        "id": "1SvMuB1ARjGy",
        "outputId": "43c9c8a7-cabf-4ede-b407-520a5c42cfc6"
      },
      "execution_count": null,
      "outputs": [
        {
          "output_type": "stream",
          "name": "stdout",
          "text": [
            "Collecting jsonlines\n",
            "  Downloading jsonlines-3.0.0-py3-none-any.whl (8.5 kB)\n",
            "Requirement already satisfied: typing-extensions in /usr/local/lib/python3.7/dist-packages (from jsonlines) (3.10.0.2)\n",
            "Requirement already satisfied: attrs>=19.2.0 in /usr/local/lib/python3.7/dist-packages (from jsonlines) (21.2.0)\n",
            "Installing collected packages: jsonlines\n",
            "Successfully installed jsonlines-3.0.0\n"
          ]
        }
      ]
    },
    {
      "cell_type": "code",
      "metadata": {
        "id": "f0EqEBUKKb-K"
      },
      "source": [
        "import stanza\n",
        "import pandas as pd\n",
        "import numpy as np\n",
        "from collections import defaultdict\n",
        "import os\n",
        "import pickle as pk\n",
        "import jsonlines\n",
        "import json"
      ],
      "execution_count": null,
      "outputs": []
    },
    {
      "cell_type": "markdown",
      "metadata": {
        "id": "K2REgmchx1m4"
      },
      "source": [
        "## Method to extract named entities from a clinical note"
      ]
    },
    {
      "cell_type": "code",
      "metadata": {
        "id": "Uk2FeRj7AM8L"
      },
      "source": [
        "def _extract_named_entities(clinical_note, i2b2_model):\n",
        "  lst_entities = []\n",
        "\n",
        "  doc_i2b2 = i2b2_model(clinical_note)\n",
        "  for ent in doc_i2b2.entities:\n",
        "    lst_entities.append(ent.text)\n",
        "  \n",
        "  lst_entities = list(set(lst_entities))\n",
        "  str_entities = \" | \".join(lst_entities)\n",
        "  \n",
        "  return str_entities\n",
        "  "
      ],
      "execution_count": null,
      "outputs": []
    },
    {
      "cell_type": "markdown",
      "source": [
        "### Main method for heart failure data from UIC"
      ],
      "metadata": {
        "id": "Mj8RezfCMzvF"
      }
    },
    {
      "cell_type": "code",
      "source": [
        "def main():\n",
        "  input_fileName = \"heart_failure_procedures.csv\"\n",
        "  output_fileName = \"heart_failure_procedures_w_named_entites.jsonl\"\n",
        "\n",
        "  # download and initialize a mimic pipeline with an i2b2 NER model\n",
        "  stanza.download('en', package='mimic', processors={'ner': 'i2b2'})\n",
        "  nlp_i2b2 = stanza.Pipeline('en', package='mimic', processors={'ner': 'i2b2'})\n",
        "\n",
        "  # read the dataframe with findings and impressions\n",
        "  dict_w_named_entities = defaultdict(list)\n",
        "  df = pd.read_csv(input_fileName)\n",
        "\n",
        "  for idx, row in df.iterrows():\n",
        "    if idx % 1000 == 0:\n",
        "      print(\"Iteration: \", idx)\n",
        "    record_id = str(df['record_id'][idx])\n",
        "    procedure_name = str(df['procedure_name'][idx])\n",
        "    finding = str(df['finding'][idx])\n",
        "    impression = str(df['impression'][idx])\n",
        "\n",
        "    # call to the named entity extractor method for both finding and impression\n",
        "    finding_entities = _extract_named_entities(finding, nlp_i2b2)\n",
        "    impression_entities = _extract_named_entities(impression, nlp_i2b2)\n",
        "\n",
        "    dict_1 = {\"record_id\" : record_id,\n",
        "              \"procedure_name\" : procedure_name,\n",
        "              \"finding\" : finding,\n",
        "              \"impression\" : impression,\n",
        "              \"finding_entities\" : finding_entities,\n",
        "              \"impression_entities\" : impression_entities\n",
        "              }\n",
        "\n",
        "    with jsonlines.open(output_fileName, \"a\") as writer:\n",
        "      writer.write(dict_1)\n",
        "    writer.close()\n",
        "\n"
      ],
      "metadata": {
        "id": "3wV9gTL5M2Id"
      },
      "execution_count": null,
      "outputs": []
    },
    {
      "cell_type": "code",
      "source": [
        "if __name__ == \"__main__\":\n",
        "  main()"
      ],
      "metadata": {
        "id": "seV2rILWM5TE"
      },
      "execution_count": null,
      "outputs": []
    },
    {
      "cell_type": "markdown",
      "source": [
        "### Main method for ECGEN data from Indiana Univesity"
      ],
      "metadata": {
        "id": "zBtgdWkJkv7o"
      }
    },
    {
      "cell_type": "code",
      "source": [
        "def main():\n",
        "  input_fileName = \"NLMCXR_reports_ecgen_radiology.jsonl\"\n",
        "  output_fileName = \"NLMCXR_reports_ecgen_radiology_w_named_entites.jsonl\"   # named entities for both findings and impressions\n",
        "\n",
        "  # download and initialize a mimic pipeline with an i2b2 NER model\n",
        "  stanza.download('en', package='mimic', processors={'ner': 'i2b2'})\n",
        "  nlp_i2b2 = stanza.Pipeline('en', package='mimic', processors={'ner': 'i2b2'})\n",
        "\n",
        "  with open(input_fileName) as fp:\n",
        "    for iter, line in enumerate(fp):\n",
        "      if iter % 1000 == 0:\n",
        "        print(\"Iteration: \", iter)\n",
        "      dict_data = json.loads(line)\n",
        "\n",
        "      indication = str(dict_data[\"INDICATION\"])\n",
        "      finding = str(dict_data[\"FINDINGS\"])\n",
        "      impression = str(dict_data[\"IMPRESSION\"])\n",
        "\n",
        "      # call to the named entity extractor method for both finding and impression\n",
        "      finding_entities = _extract_named_entities(finding, nlp_i2b2)\n",
        "      impression_entities = _extract_named_entities(impression, nlp_i2b2)\n",
        "\n",
        "      dict_1 = {\"indication\" : indication,\n",
        "                \"finding\" : finding,\n",
        "                \"impression\" : impression,\n",
        "                \"finding_entities\" : finding_entities,\n",
        "                \"impression_entities\" : impression_entities\n",
        "                }\n",
        "\n",
        "      with jsonlines.open(output_fileName, \"a\") as writer:\n",
        "        writer.write(dict_1)\n",
        "      writer.close()\n",
        "\n",
        "  fp.close()"
      ],
      "metadata": {
        "id": "-QsGEiFTTwqE"
      },
      "execution_count": null,
      "outputs": []
    },
    {
      "cell_type": "code",
      "source": [
        "if __name__ == \"__main__\":\n",
        "  main()"
      ],
      "metadata": {
        "id": "w294QUieTwfI",
        "colab": {
          "base_uri": "https://localhost:8080/",
          "height": 880,
          "referenced_widgets": [
            "d10c52bbc8a3418b8eed5c0b41164405",
            "5f94e9968f1f4b07920c6a7840b2eae1",
            "76c9f4ef88db4e879ad1a63e6e7c0dd8",
            "e1f44dcd958044e0bf992a23d2510b5f",
            "5d959a658e8943d5adcdda635f11ea2a",
            "3e4c2a0355a44896949c20302cc18ac2",
            "9d4423d56fd84ece9143a669cfea7c76",
            "9a2a25a680ce46baa47a08643cd3c922",
            "63d1199158db457bab11c7cbb4d4075e",
            "20578702be3843f28bf0ac789d1f46bf",
            "245fecf457da423797932f544e5eebbd"
          ]
        },
        "outputId": "a4a2d35d-c880-49bd-9ce4-c25140901039"
      },
      "execution_count": null,
      "outputs": [
        {
          "output_type": "display_data",
          "data": {
            "application/vnd.jupyter.widget-view+json": {
              "model_id": "d10c52bbc8a3418b8eed5c0b41164405",
              "version_minor": 0,
              "version_major": 2
            },
            "text/plain": [
              "Downloading https://raw.githubusercontent.com/stanfordnlp/stanza-resources/main/resources_1.3.0.json:   0%|   …"
            ]
          },
          "metadata": {}
        },
        {
          "output_type": "stream",
          "name": "stderr",
          "text": [
            "2021-12-18 08:22:14 INFO: Downloading these customized packages for language: en (English)...\n",
            "=============================\n",
            "| Processor       | Package |\n",
            "-----------------------------\n",
            "| tokenize        | mimic   |\n",
            "| pos             | mimic   |\n",
            "| lemma           | mimic   |\n",
            "| depparse        | mimic   |\n",
            "| ner             | i2b2    |\n",
            "| forward_charlm  | mimic   |\n",
            "| pretrain        | mimic   |\n",
            "| backward_charlm | mimic   |\n",
            "=============================\n",
            "\n",
            "2021-12-18 08:22:14 INFO: File exists: /root/stanza_resources/en/tokenize/mimic.pt.\n",
            "2021-12-18 08:22:14 INFO: File exists: /root/stanza_resources/en/pos/mimic.pt.\n",
            "2021-12-18 08:22:14 INFO: File exists: /root/stanza_resources/en/lemma/mimic.pt.\n",
            "2021-12-18 08:22:14 INFO: File exists: /root/stanza_resources/en/depparse/mimic.pt.\n",
            "2021-12-18 08:22:14 INFO: File exists: /root/stanza_resources/en/ner/i2b2.pt.\n",
            "2021-12-18 08:22:14 INFO: File exists: /root/stanza_resources/en/forward_charlm/mimic.pt.\n",
            "2021-12-18 08:22:14 INFO: File exists: /root/stanza_resources/en/pretrain/mimic.pt.\n",
            "2021-12-18 08:22:15 INFO: File exists: /root/stanza_resources/en/backward_charlm/mimic.pt.\n",
            "2021-12-18 08:22:15 INFO: Finished downloading models and saved to /root/stanza_resources.\n",
            "2021-12-18 08:22:15 INFO: Loading these models for language: en (English):\n",
            "=======================\n",
            "| Processor | Package |\n",
            "-----------------------\n",
            "| tokenize  | mimic   |\n",
            "| pos       | mimic   |\n",
            "| lemma     | mimic   |\n",
            "| depparse  | mimic   |\n",
            "| ner       | i2b2    |\n",
            "=======================\n",
            "\n",
            "2021-12-18 08:22:15 INFO: Use device: gpu\n",
            "2021-12-18 08:22:15 INFO: Loading: tokenize\n",
            "2021-12-18 08:22:15 INFO: Loading: pos\n",
            "2021-12-18 08:22:15 INFO: Loading: lemma\n",
            "2021-12-18 08:22:15 INFO: Loading: depparse\n",
            "2021-12-18 08:22:15 INFO: Loading: ner\n",
            "2021-12-18 08:22:16 INFO: Done loading processors!\n"
          ]
        },
        {
          "output_type": "stream",
          "name": "stdout",
          "text": [
            "Iteration:  0\n",
            "Iteration:  1000\n",
            "Iteration:  2000\n",
            "Iteration:  3000\n"
          ]
        }
      ]
    },
    {
      "cell_type": "code",
      "source": [
        ""
      ],
      "metadata": {
        "id": "hy47HqbVntfI"
      },
      "execution_count": null,
      "outputs": []
    }
  ]
}