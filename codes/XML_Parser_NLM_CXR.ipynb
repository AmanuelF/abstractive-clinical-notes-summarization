{
  "nbformat": 4,
  "nbformat_minor": 0,
  "metadata": {
    "colab": {
      "name": "XML_Parser_NLM_CXR.ipynb",
      "provenance": [],
      "collapsed_sections": [],
      "machine_shape": "hm"
    },
    "kernelspec": {
      "name": "python3",
      "display_name": "Python 3"
    },
    "accelerator": "GPU"
  },
  "cells": [
    {
      "cell_type": "code",
      "metadata": {
        "id": "LS0BC5oErcAP",
        "colab": {
          "base_uri": "https://localhost:8080/"
        },
        "outputId": "9ce9d4bd-b443-47b8-f21f-d24e587d5722"
      },
      "source": [
        "from google.colab import drive\n",
        "drive.mount('/content/drive')"
      ],
      "execution_count": null,
      "outputs": [
        {
          "output_type": "stream",
          "name": "stdout",
          "text": [
            "Mounted at /content/drive\n"
          ]
        }
      ]
    },
    {
      "cell_type": "code",
      "metadata": {
        "id": "sT8qQNCSreSW",
        "colab": {
          "base_uri": "https://localhost:8080/"
        },
        "outputId": "8b4633a1-ac4a-4efe-a493-cb43bd64da1d"
      },
      "source": [
        "%cd drive/My\\ Drive/Colab\\ Notebooks/SCH_Proposal"
      ],
      "execution_count": null,
      "outputs": [
        {
          "output_type": "stream",
          "name": "stdout",
          "text": [
            "/content/drive/My Drive/Colab Notebooks/SCH_Proposal\n"
          ]
        }
      ]
    },
    {
      "cell_type": "code",
      "source": [
        "!pip3 install -q jsonlines"
      ],
      "metadata": {
        "id": "eMC_bV1QcRH7"
      },
      "execution_count": null,
      "outputs": []
    },
    {
      "cell_type": "markdown",
      "metadata": {
        "id": "kBHnGZmZ5kNi"
      },
      "source": [
        "## https://docs.python.org/3/library/xml.etree.elementtree.html"
      ]
    },
    {
      "cell_type": "code",
      "metadata": {
        "id": "vu--4s3_5h8u"
      },
      "source": [
        "import xml.etree.ElementTree as ET\n",
        "import os\n",
        "import pandas as pd\n",
        "import json\n",
        "import csv\n",
        "import jsonlines"
      ],
      "execution_count": null,
      "outputs": []
    },
    {
      "cell_type": "code",
      "source": [
        "!pwd"
      ],
      "metadata": {
        "colab": {
          "base_uri": "https://localhost:8080/"
        },
        "id": "FZHLTv-5cv4I",
        "outputId": "0765f9cf-4dc8-40c0-8f9a-5e9fd35386b9"
      },
      "execution_count": null,
      "outputs": [
        {
          "output_type": "stream",
          "name": "stdout",
          "text": [
            "/content/drive/My Drive/Colab Notebooks/SCH_Proposal\n"
          ]
        }
      ]
    },
    {
      "cell_type": "code",
      "source": [
        "def _getText_from_XML(FILE_PATH, lst_attributes):\n",
        "  dict_records = {}\n",
        "  tree = ET.parse(FILE_PATH)\n",
        "  for elem in tree.iter():\n",
        "    if elem.tag == \"AbstractText\":\n",
        "      if elem.attrib['Label'] in lst_attributes:\n",
        "        dict_records[elem.attrib['Label']] = elem.text\n",
        "  \n",
        "  return dict_records"
      ],
      "metadata": {
        "id": "DCieBeh0YAcF"
      },
      "execution_count": null,
      "outputs": []
    },
    {
      "cell_type": "code",
      "metadata": {
        "id": "tNXG8qi0QR4S"
      },
      "source": [
        "def main():\n",
        "  # Iterate through the directory of xml files\n",
        "  DATA_PATH = \"NLMCXR_reports/ecgen-radiology\"\n",
        "  lst_attributes = [\"INDICATION\", \"FINDINGS\", \"IMPRESSION\"]\n",
        "  for idx, file_name in enumerate(os.listdir(DATA_PATH)):\n",
        "    if idx % 1000 == 0:\n",
        "      print(\"Iteration: {}\".format(idx))\n",
        "    file_path = f\"{DATA_PATH}/{file_name}\"\n",
        "    \n",
        "    # call to the xml parser method above\n",
        "    dict_1 = _getText_from_XML(file_path, lst_attributes)\n",
        "\n",
        "    with jsonlines.open(\"NLMCXR_reports_ecgen_radiology.jsonl\", \"a\") as writer:\n",
        "      writer.write(dict_1)\n",
        "    writer.close()\n"
      ],
      "execution_count": null,
      "outputs": []
    },
    {
      "cell_type": "code",
      "metadata": {
        "id": "2bjtoFBurbu-",
        "colab": {
          "base_uri": "https://localhost:8080/"
        },
        "outputId": "b3029591-3655-45b6-be6c-c35587e0a3d0"
      },
      "source": [
        "if __name__ == \"__main__\":\n",
        "  main()"
      ],
      "execution_count": null,
      "outputs": [
        {
          "output_type": "stream",
          "name": "stdout",
          "text": [
            "Iteration: 0\n",
            "Iteration: 1000\n",
            "Iteration: 2000\n",
            "Iteration: 3000\n"
          ]
        }
      ]
    },
    {
      "cell_type": "code",
      "metadata": {
        "id": "L39Of_RKT_2o"
      },
      "source": [
        ""
      ],
      "execution_count": null,
      "outputs": []
    }
  ]
}